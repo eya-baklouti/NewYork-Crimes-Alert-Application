{
 "cells": [
  {
   "cell_type": "markdown",
   "metadata": {},
   "source": [
    "## Importation des données "
   ]
  },
  {
   "cell_type": "code",
   "execution_count": 2,
   "metadata": {},
   "outputs": [],
   "source": [
    "import pandas as pd "
   ]
  },
  {
   "cell_type": "code",
   "execution_count": 16,
   "metadata": {},
   "outputs": [],
   "source": [
    "crimes = pd.read_csv(\"NY_crimes/NYPD_Complaint_Data_Historic.csv\")\n"
   ]
  },
  {
   "cell_type": "code",
   "execution_count": 17,
   "metadata": {},
   "outputs": [
    {
     "name": "stdout",
     "output_type": "stream",
     "text": [
      "<class 'pandas.core.frame.DataFrame'>\n",
      "RangeIndex: 6983207 entries, 0 to 6983206\n",
      "Data columns (total 35 columns):\n",
      " #   Column             Dtype  \n",
      "---  ------             -----  \n",
      " 0   CMPLNT_NUM         int64  \n",
      " 1   CMPLNT_FR_DT       object \n",
      " 2   CMPLNT_FR_TM       object \n",
      " 3   CMPLNT_TO_DT       object \n",
      " 4   CMPLNT_TO_TM       object \n",
      " 5   ADDR_PCT_CD        float64\n",
      " 6   RPT_DT             object \n",
      " 7   KY_CD              int64  \n",
      " 8   OFNS_DESC          object \n",
      " 9   PD_CD              float64\n",
      " 10  PD_DESC            object \n",
      " 11  CRM_ATPT_CPTD_CD   object \n",
      " 12  LAW_CAT_CD         object \n",
      " 13  BORO_NM            object \n",
      " 14  LOC_OF_OCCUR_DESC  object \n",
      " 15  PREM_TYP_DESC      object \n",
      " 16  JURIS_DESC         object \n",
      " 17  JURISDICTION_CODE  float64\n",
      " 18  PARKS_NM           object \n",
      " 19  HADEVELOPT         object \n",
      " 20  HOUSING_PSA        object \n",
      " 21  X_COORD_CD         float64\n",
      " 22  Y_COORD_CD         float64\n",
      " 23  SUSP_AGE_GROUP     object \n",
      " 24  SUSP_RACE          object \n",
      " 25  SUSP_SEX           object \n",
      " 26  TRANSIT_DISTRICT   float64\n",
      " 27  Latitude           float64\n",
      " 28  Longitude          float64\n",
      " 29  Lat_Lon            object \n",
      " 30  PATROL_BORO        object \n",
      " 31  STATION_NAME       object \n",
      " 32  VIC_AGE_GROUP      object \n",
      " 33  VIC_RACE           object \n",
      " 34  VIC_SEX            object \n",
      "dtypes: float64(8), int64(2), object(25)\n",
      "memory usage: 1.8+ GB\n"
     ]
    }
   ],
   "source": [
    "crimes.info()"
   ]
  },
  {
   "cell_type": "markdown",
   "metadata": {},
   "source": [
    "## DATA CLEANING "
   ]
  },
  {
   "cell_type": "code",
   "execution_count": 18,
   "metadata": {},
   "outputs": [],
   "source": [
    "\n",
    "crimes = crimes.drop(['HADEVELOPT', 'HOUSING_PSA', 'LOC_OF_OCCUR_DESC', 'PD_CD'], axis = 1)\n",
    "crimes = crimes.drop(['CMPLNT_NUM', 'CRM_ATPT_CPTD_CD', 'KY_CD', 'PREM_TYP_DESC', 'Lat_Lon', 'X_COORD_CD', 'Y_COORD_CD', 'RPT_DT'], axis = 1)\n",
    "crimes=crimes.drop(['CMPLNT_TO_DT','CMPLNT_TO_TM','PARKS_NM','CMPLNT_TO_DT','ADDR_PCT_CD','PD_DESC','LAW_CAT_CD','BORO_NM','JURIS_DESC','JURISDICTION_CODE'], axis = 1)\n",
    "crimes = crimes.drop(['SUSP_AGE_GROUP','SUSP_RACE','SUSP_SEX','TRANSIT_DISTRICT','STATION_NAME'], axis = 1)\n",
    "\n"
   ]
  },
  {
   "cell_type": "markdown",
   "metadata": {},
   "source": [
    "#### OFNS_DESC et PD_DESC , deux colonnes similaires "
   ]
  },
  {
   "cell_type": "code",
   "execution_count": 19,
   "metadata": {},
   "outputs": [],
   "source": [
    "#dropna pour les cordonnées à raison de leur importance dans notre modèle\n",
    "crimes = crimes[crimes[\"Latitude\"].notnull()]\n",
    "crimes = crimes[crimes[\"Longitude\"].notnull()]"
   ]
  },
  {
   "cell_type": "code",
   "execution_count": 13,
   "metadata": {},
   "outputs": [
    {
     "name": "stdout",
     "output_type": "stream",
     "text": [
      "<class 'pandas.core.frame.DataFrame'>\n",
      "Int64Index: 6959143 entries, 0 to 6983206\n",
      "Data columns (total 8 columns):\n",
      " #   Column         Dtype  \n",
      "---  ------         -----  \n",
      " 0   CMPLNT_FR_DT   object \n",
      " 1   CMPLNT_FR_TM   object \n",
      " 2   Latitude       float64\n",
      " 3   Longitude      float64\n",
      " 4   PATROL_BORO    object \n",
      " 5   VIC_AGE_GROUP  object \n",
      " 6   VIC_RACE       object \n",
      " 7   VIC_SEX        object \n",
      "dtypes: float64(2), object(6)\n",
      "memory usage: 477.8+ MB\n"
     ]
    }
   ],
   "source": [
    "crimes.info()"
   ]
  },
  {
   "cell_type": "code",
   "execution_count": 16,
   "metadata": {},
   "outputs": [],
   "source": [
    "crimes.to_csv('crimes_df7.csv', index = False)"
   ]
  },
  {
   "cell_type": "code",
   "execution_count": 3,
   "metadata": {},
   "outputs": [],
   "source": [
    "df = pd.read_csv(\"ex_crimes_df.csv\")"
   ]
  },
  {
   "cell_type": "code",
   "execution_count": 15,
   "metadata": {},
   "outputs": [],
   "source": [
    "crimes=pd.concat([df,df,df,df,df,df,df,df,df,df,df])"
   ]
  },
  {
   "cell_type": "code",
   "execution_count": 7,
   "metadata": {},
   "outputs": [
    {
     "name": "stdout",
     "output_type": "stream",
     "text": [
      "<class 'pandas.core.frame.DataFrame'>\n",
      "Int64Index: 400000 entries, 0 to 99999\n",
      "Data columns (total 10 columns):\n",
      " #   Column         Non-Null Count   Dtype  \n",
      "---  ------         --------------   -----  \n",
      " 0   CMPLNT_FR_DT   399984 non-null  object \n",
      " 1   CMPLNT_FR_TM   400000 non-null  object \n",
      " 2   OFNS_DESC      400000 non-null  object \n",
      " 3   PD_DESC        400000 non-null  object \n",
      " 4   Latitude       399768 non-null  float64\n",
      " 5   Longitude      399768 non-null  float64\n",
      " 6   PATROL_BORO    399680 non-null  object \n",
      " 7   VIC_AGE_GROUP  318208 non-null  object \n",
      " 8   VIC_RACE       400000 non-null  object \n",
      " 9   VIC_SEX        400000 non-null  object \n",
      "dtypes: float64(2), object(8)\n",
      "memory usage: 33.6+ MB\n"
     ]
    }
   ],
   "source": [
    "crimes.info()"
   ]
  },
  {
   "cell_type": "code",
   "execution_count": null,
   "metadata": {},
   "outputs": [],
   "source": []
  }
 ],
 "metadata": {
  "kernelspec": {
   "display_name": "Python 3",
   "language": "python",
   "name": "python3"
  },
  "language_info": {
   "codemirror_mode": {
    "name": "ipython",
    "version": 3
   },
   "file_extension": ".py",
   "mimetype": "text/x-python",
   "name": "python",
   "nbconvert_exporter": "python",
   "pygments_lexer": "ipython3",
   "version": "3.8.3"
  }
 },
 "nbformat": 4,
 "nbformat_minor": 2
}
